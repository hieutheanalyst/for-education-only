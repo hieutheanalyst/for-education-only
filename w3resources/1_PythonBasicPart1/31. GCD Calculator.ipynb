{
 "cells": [
  {
   "cell_type": "markdown",
   "metadata": {},
   "source": [
    "Write a Python program that computes the greatest common divisor (GCD) of two positive integers."
   ]
  },
  {
   "cell_type": "code",
   "execution_count": 8,
   "metadata": {},
   "outputs": [],
   "source": [
    "def common_divisor(a, b):\n",
    "    cd = 1\n",
    "    if a == b:\n",
    "        cd = a\n",
    "    elif a > b:\n",
    "        for i in range(int(a/2), 0, -1):\n",
    "            if  a % i == 0 and b % i == 0:\n",
    "                cd = i\n",
    "                break\n",
    "    else:\n",
    "        for i in range(int(b/2), 0, -1):\n",
    "            if  a % i == 0 and b % i == 0:\n",
    "                cd = i\n",
    "                break\n",
    "    print(f\"The greatest of {a} and {b} is {cd}\")\n",
    "    return None"
   ]
  },
  {
   "cell_type": "code",
   "execution_count": 9,
   "metadata": {},
   "outputs": [
    {
     "name": "stdout",
     "output_type": "stream",
     "text": [
      "The greatest of 12 and 17 is 1\n"
     ]
    }
   ],
   "source": [
    "common_divisor(12, 17)"
   ]
  },
  {
   "cell_type": "code",
   "execution_count": 10,
   "metadata": {},
   "outputs": [
    {
     "name": "stdout",
     "output_type": "stream",
     "text": [
      "The greatest of 12 and 6 is 6\n"
     ]
    }
   ],
   "source": [
    "common_divisor(12, 6)"
   ]
  },
  {
   "cell_type": "code",
   "execution_count": 11,
   "metadata": {},
   "outputs": [
    {
     "name": "stdout",
     "output_type": "stream",
     "text": [
      "The greatest of 6 and 12 is 6\n"
     ]
    }
   ],
   "source": [
    "common_divisor(6, 12)"
   ]
  },
  {
   "cell_type": "code",
   "execution_count": 12,
   "metadata": {},
   "outputs": [
    {
     "name": "stdout",
     "output_type": "stream",
     "text": [
      "The greatest of 12 and 12 is 12\n"
     ]
    }
   ],
   "source": [
    "common_divisor(12, 12)"
   ]
  }
 ],
 "metadata": {
  "kernelspec": {
   "display_name": "base",
   "language": "python",
   "name": "python3"
  },
  "language_info": {
   "codemirror_mode": {
    "name": "ipython",
    "version": 3
   },
   "file_extension": ".py",
   "mimetype": "text/x-python",
   "name": "python",
   "nbconvert_exporter": "python",
   "pygments_lexer": "ipython3",
   "version": "3.12.3"
  }
 },
 "nbformat": 4,
 "nbformat_minor": 2
}

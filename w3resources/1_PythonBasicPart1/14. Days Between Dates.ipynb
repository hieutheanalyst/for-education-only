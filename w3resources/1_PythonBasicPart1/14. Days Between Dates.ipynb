{
 "cells": [
  {
   "cell_type": "markdown",
   "metadata": {},
   "source": [
    "Write a  Python program to calculate the number of days between two dates.\n",
    "Sample dates : (2014, 7, 2), (2014, 7, 11)\n",
    "Expected output : 9 days"
   ]
  },
  {
   "cell_type": "code",
   "execution_count": 9,
   "metadata": {},
   "outputs": [
    {
     "name": "stdout",
     "output_type": "stream",
     "text": [
      "Number of days is: 9\n"
     ]
    }
   ],
   "source": [
    "from datetime import date\n",
    "sample_dates = ((2014, 7, 2), (2014, 7, 11))\n",
    "start_date = date(*sample_dates[0])\n",
    "end_date = date(*sample_dates[1])\n",
    "days = (end_date - start_date).days\n",
    "print(f\"Number of days is: {days}\")"
   ]
  },
  {
   "cell_type": "code",
   "execution_count": null,
   "metadata": {},
   "outputs": [],
   "source": []
  }
 ],
 "metadata": {
  "kernelspec": {
   "display_name": "base",
   "language": "python",
   "name": "python3"
  },
  "language_info": {
   "codemirror_mode": {
    "name": "ipython",
    "version": 3
   },
   "file_extension": ".py",
   "mimetype": "text/x-python",
   "name": "python",
   "nbconvert_exporter": "python",
   "pygments_lexer": "ipython3",
   "version": "3.12.3"
  }
 },
 "nbformat": 4,
 "nbformat_minor": 2
}

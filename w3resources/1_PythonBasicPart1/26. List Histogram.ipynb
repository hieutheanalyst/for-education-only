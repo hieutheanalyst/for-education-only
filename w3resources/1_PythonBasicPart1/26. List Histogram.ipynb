{
 "cells": [
  {
   "cell_type": "markdown",
   "metadata": {},
   "source": [
    "Write a Python program to create a histogram from a given list of integers."
   ]
  },
  {
   "cell_type": "code",
   "execution_count": 3,
   "metadata": {},
   "outputs": [
    {
     "name": "stdout",
     "output_type": "stream",
     "text": [
      "$$$$$$$$$$\n",
      "$$\n",
      "$$$$$\n",
      "$$$$$$\n",
      "$$$$$$$$\n"
     ]
    }
   ],
   "source": [
    "def histogram(list_of_int, char = '@'):\n",
    "    for i in list_of_int:\n",
    "        print(char*i)\n",
    "\n",
    "histogram([10,2,5,6,8], char=\"$\")"
   ]
  }
 ],
 "metadata": {
  "kernelspec": {
   "display_name": "base",
   "language": "python",
   "name": "python3"
  },
  "language_info": {
   "codemirror_mode": {
    "name": "ipython",
    "version": 3
   },
   "file_extension": ".py",
   "mimetype": "text/x-python",
   "name": "python",
   "nbconvert_exporter": "python",
   "pygments_lexer": "ipython3",
   "version": "3.12.3"
  }
 },
 "nbformat": 4,
 "nbformat_minor": 2
}
